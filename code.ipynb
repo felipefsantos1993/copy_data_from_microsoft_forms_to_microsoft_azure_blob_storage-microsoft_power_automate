{
 "cells": [
  {
   "cell_type": "code",
   "execution_count": null,
   "metadata": {},
   "outputs": [],
   "source": [
    "%sql\n",
    "USE CATALOG \"Your Catalog\""
   ]
  },
  {
   "cell_type": "code",
   "execution_count": null,
   "metadata": {},
   "outputs": [],
   "source": [
    "%sql\n",
    "CREATE TABLE IF NOT EXISTS \"Your Table Name\" (\n",
    "    \"Your Column Name\" STRING,\n",
    "    \"Your Column Name\" STRING,\n",
    "    \"Your Column Name\" STRING,\n",
    "    \"Your Column Name\" STRING\n",
    ") USING DELTA"
   ]
  },
  {
   "cell_type": "code",
   "execution_count": null,
   "metadata": {},
   "outputs": [],
   "source": [
    "max_file = dbutils.widgets.get(\"formParam\")\n",
    "file = 'Your Microsoft Azure Storage Dir' + max_file + '.csv'\n",
    "df_forms = spark.read.csv(file)\n",
    "df_forms = df_forms.withColumnRenamed(\"_c0\", \"Your Column Name\") \\\n",
    "                   .withColumnRenamed(\"_c1\", \"Your Column Name\") \\\n",
    "                   .withColumnRenamed(\"_c2\", \"Your Column Name\") \\\n",
    "                   .withColumnRenamed(\"_c3\", \"Your Column Name\")\n",
    "df_forms.createOrReplaceTempView('view_forms_' + max_file[0:-4])\n",
    "spark.sql(\n",
    "  f\"\"\"INSERT INTO \"Your Table Name\"\n",
    "      SELECT\n",
    "        Your Column Name,\n",
    "        Your Column Name,\n",
    "        Your Column Name,\n",
    "        Your Column Name\n",
    "      FROM view_forms_{max_file[0:-4]}\"\"\")"
   ]
  }
 ],
 "metadata": {
  "language_info": {
   "name": "python"
  }
 },
 "nbformat": 4,
 "nbformat_minor": 2
}
